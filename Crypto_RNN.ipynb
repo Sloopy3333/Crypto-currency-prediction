{
 "cells": [
  {
   "cell_type": "code",
   "execution_count": 2,
   "metadata": {
    "scrolled": true
   },
   "outputs": [],
   "source": [
    "import pandas as pd\n",
    "import os\n",
    "import glob\n",
    "from sklearn import preprocessing\n",
    "from collections import deque\n",
    "import numpy as np\n",
    "import random\n",
    "from multiprocessing import pool\n",
    "import pickle\n",
    "import time\n",
    "import tensorflow as tf\n",
    "from tensorflow.keras.models import Sequential\n",
    "from tensorflow.keras.layers import Dense,Dropout,LSTM,BatchNormalization\n",
    "from tensorflow.keras.callbacks import TensorBoard,ModelCheckpoint\n",
    "import datetime, os\n",
    "import random"
   ]
  },
  {
   "cell_type": "code",
   "execution_count": 2,
   "metadata": {},
   "outputs": [],
   "source": [
    "dirac = 'D:\\ML\\crypto_data\\crypto_data'\n",
    "name = ['Time','Low','High','Open','Close','Volume']\n",
    "txt = ['BCH-USD','BTC-USD','ETH-USD','LTC-USD']"
   ]
  },
  {
   "cell_type": "code",
   "execution_count": 22,
   "metadata": {},
   "outputs": [],
   "source": [
    "seq_len = 60\n",
    "future_pred_len = 3\n",
    "ratio_to_pred = 'LTC-USD'\n",
    "Epochs = 10\n",
    "batch_size = 64\n",
    "Name = f'{seq_len}-seq-{future_pred_len}-pred-{int(time.time())}' "
   ]
  },
  {
   "cell_type": "code",
   "execution_count": 5,
   "metadata": {},
   "outputs": [],
   "source": [
    "def classify(current,future):\n",
    "    if float(future) > float(current):\n",
    "        return 1\n",
    "    else:\n",
    "        return 0"
   ]
  },
  {
   "cell_type": "code",
   "execution_count": 6,
   "metadata": {},
   "outputs": [],
   "source": [
    "def preprocess_df(df):\n",
    "    df = df.drop('future',1)\n",
    "    for col in df.columns:\n",
    "        if col != 'target':\n",
    "            df[col] = df[col].pct_change()\n",
    "            df.dropna(inplace=True)\n",
    "            df[col] = preprocessing.scale(df[col])\n",
    "            df.dropna(inplace=True)\n",
    "    seq_data = []\n",
    "    prev_day = deque(maxlen=seq_len)\n",
    "    for i in df.values:\n",
    "        prev_day.append([n for n in i[:-1]])\n",
    "        if len(prev_day) == seq_len:\n",
    "            seq_data.append([np.array(prev_day),i[-1]])\n",
    "            np.random.shuffle(seq_data)\n",
    "    buys = []\n",
    "    sells = []\n",
    "    \n",
    "    for seq,target in seq_data:\n",
    "        if target == 1:\n",
    "            buys.append([seq,target])\n",
    "        elif target == 0:\n",
    "            sells.append([seq,target])\n",
    "            \n",
    "    \n",
    "    \n",
    "    lower = min(len(buys),len(sells))\n",
    "    \n",
    "    buys = buys[:lower]\n",
    "    sells = sells[:lower]\n",
    "    \n",
    "    seq_data = buys+sells\n",
    "    np.random.shuffle(seq_data)\n",
    "    \n",
    "    X = []\n",
    "    y = []\n",
    "    \n",
    "    for seq , target in seq_data:\n",
    "        X.append(seq)\n",
    "        y.append(target)\n",
    "        \n",
    "    return np.array(X),np.array(y)"
   ]
  },
  {
   "cell_type": "code",
   "execution_count": 7,
   "metadata": {},
   "outputs": [],
   "source": [
    "final_data = pd.DataFrame()\n",
    "for i in txt:\n",
    "    df = pd.read_csv(f'{dirac}\\{i}.csv',names=name)\n",
    "    df.rename(columns={'Close':f'{i}_close','Volume':f'{i}_vol'},inplace=True)\n",
    "    df.set_index('Time',inplace=True)\n",
    "    df = df[[f'{i}_close',f'{i}_vol']]\n",
    "    if len(final_data)==0:\n",
    "        final_data=df\n",
    "    else:\n",
    "        final_data = final_data.join(df)"
   ]
  },
  {
   "cell_type": "code",
   "execution_count": 8,
   "metadata": {},
   "outputs": [
    {
     "data": {
      "text/html": [
       "<div>\n",
       "<style scoped>\n",
       "    .dataframe tbody tr th:only-of-type {\n",
       "        vertical-align: middle;\n",
       "    }\n",
       "\n",
       "    .dataframe tbody tr th {\n",
       "        vertical-align: top;\n",
       "    }\n",
       "\n",
       "    .dataframe thead th {\n",
       "        text-align: right;\n",
       "    }\n",
       "</style>\n",
       "<table border=\"1\" class=\"dataframe\">\n",
       "  <thead>\n",
       "    <tr style=\"text-align: right;\">\n",
       "      <th></th>\n",
       "      <th>BCH-USD_close</th>\n",
       "      <th>BCH-USD_vol</th>\n",
       "      <th>BTC-USD_close</th>\n",
       "      <th>BTC-USD_vol</th>\n",
       "      <th>ETH-USD_close</th>\n",
       "      <th>ETH-USD_vol</th>\n",
       "      <th>LTC-USD_close</th>\n",
       "      <th>LTC-USD_vol</th>\n",
       "    </tr>\n",
       "    <tr>\n",
       "      <th>Time</th>\n",
       "      <th></th>\n",
       "      <th></th>\n",
       "      <th></th>\n",
       "      <th></th>\n",
       "      <th></th>\n",
       "      <th></th>\n",
       "      <th></th>\n",
       "      <th></th>\n",
       "    </tr>\n",
       "  </thead>\n",
       "  <tbody>\n",
       "    <tr>\n",
       "      <th>1528968660</th>\n",
       "      <td>871.719971</td>\n",
       "      <td>5.675361</td>\n",
       "      <td>6489.549805</td>\n",
       "      <td>0.587100</td>\n",
       "      <td>NaN</td>\n",
       "      <td>NaN</td>\n",
       "      <td>96.580002</td>\n",
       "      <td>9.647200</td>\n",
       "    </tr>\n",
       "    <tr>\n",
       "      <th>1528968720</th>\n",
       "      <td>870.859985</td>\n",
       "      <td>26.856577</td>\n",
       "      <td>6487.379883</td>\n",
       "      <td>7.706374</td>\n",
       "      <td>486.010010</td>\n",
       "      <td>26.019083</td>\n",
       "      <td>96.660004</td>\n",
       "      <td>314.387024</td>\n",
       "    </tr>\n",
       "    <tr>\n",
       "      <th>1528968780</th>\n",
       "      <td>870.099976</td>\n",
       "      <td>1.124300</td>\n",
       "      <td>6479.410156</td>\n",
       "      <td>3.088252</td>\n",
       "      <td>486.000000</td>\n",
       "      <td>8.449400</td>\n",
       "      <td>96.570000</td>\n",
       "      <td>77.129799</td>\n",
       "    </tr>\n",
       "    <tr>\n",
       "      <th>1528968840</th>\n",
       "      <td>870.789978</td>\n",
       "      <td>1.749862</td>\n",
       "      <td>6479.410156</td>\n",
       "      <td>1.404100</td>\n",
       "      <td>485.750000</td>\n",
       "      <td>26.994646</td>\n",
       "      <td>96.500000</td>\n",
       "      <td>7.216067</td>\n",
       "    </tr>\n",
       "    <tr>\n",
       "      <th>1528968900</th>\n",
       "      <td>870.000000</td>\n",
       "      <td>1.680500</td>\n",
       "      <td>6479.979980</td>\n",
       "      <td>0.753000</td>\n",
       "      <td>486.000000</td>\n",
       "      <td>77.355759</td>\n",
       "      <td>96.389999</td>\n",
       "      <td>524.539978</td>\n",
       "    </tr>\n",
       "    <tr>\n",
       "      <th>...</th>\n",
       "      <td>...</td>\n",
       "      <td>...</td>\n",
       "      <td>...</td>\n",
       "      <td>...</td>\n",
       "      <td>...</td>\n",
       "      <td>...</td>\n",
       "      <td>...</td>\n",
       "      <td>...</td>\n",
       "    </tr>\n",
       "    <tr>\n",
       "      <th>1535215020</th>\n",
       "      <td>531.479980</td>\n",
       "      <td>0.016868</td>\n",
       "      <td>6714.520020</td>\n",
       "      <td>1.002652</td>\n",
       "      <td>279.359985</td>\n",
       "      <td>8.790519</td>\n",
       "      <td>58.009998</td>\n",
       "      <td>7.301921</td>\n",
       "    </tr>\n",
       "    <tr>\n",
       "      <th>1535215080</th>\n",
       "      <td>531.469971</td>\n",
       "      <td>0.013854</td>\n",
       "      <td>6714.520020</td>\n",
       "      <td>1.021925</td>\n",
       "      <td>279.369995</td>\n",
       "      <td>1.311763</td>\n",
       "      <td>58.020000</td>\n",
       "      <td>23.802017</td>\n",
       "    </tr>\n",
       "    <tr>\n",
       "      <th>1535215140</th>\n",
       "      <td>531.479980</td>\n",
       "      <td>0.016900</td>\n",
       "      <td>6715.000000</td>\n",
       "      <td>3.645508</td>\n",
       "      <td>279.660004</td>\n",
       "      <td>11.752819</td>\n",
       "      <td>58.020000</td>\n",
       "      <td>6.953497</td>\n",
       "    </tr>\n",
       "    <tr>\n",
       "      <th>1535215200</th>\n",
       "      <td>531.479980</td>\n",
       "      <td>0.299520</td>\n",
       "      <td>6715.000000</td>\n",
       "      <td>0.513560</td>\n",
       "      <td>279.649994</td>\n",
       "      <td>8.351710</td>\n",
       "      <td>58.080002</td>\n",
       "      <td>202.403183</td>\n",
       "    </tr>\n",
       "    <tr>\n",
       "      <th>1535215260</th>\n",
       "      <td>531.630005</td>\n",
       "      <td>3.528913</td>\n",
       "      <td>NaN</td>\n",
       "      <td>NaN</td>\n",
       "      <td>279.649994</td>\n",
       "      <td>10.511729</td>\n",
       "      <td>58.090000</td>\n",
       "      <td>160.602554</td>\n",
       "    </tr>\n",
       "  </tbody>\n",
       "</table>\n",
       "<p>92225 rows × 8 columns</p>\n",
       "</div>"
      ],
      "text/plain": [
       "            BCH-USD_close  BCH-USD_vol  BTC-USD_close  BTC-USD_vol  \\\n",
       "Time                                                                 \n",
       "1528968660     871.719971     5.675361    6489.549805     0.587100   \n",
       "1528968720     870.859985    26.856577    6487.379883     7.706374   \n",
       "1528968780     870.099976     1.124300    6479.410156     3.088252   \n",
       "1528968840     870.789978     1.749862    6479.410156     1.404100   \n",
       "1528968900     870.000000     1.680500    6479.979980     0.753000   \n",
       "...                   ...          ...            ...          ...   \n",
       "1535215020     531.479980     0.016868    6714.520020     1.002652   \n",
       "1535215080     531.469971     0.013854    6714.520020     1.021925   \n",
       "1535215140     531.479980     0.016900    6715.000000     3.645508   \n",
       "1535215200     531.479980     0.299520    6715.000000     0.513560   \n",
       "1535215260     531.630005     3.528913            NaN          NaN   \n",
       "\n",
       "            ETH-USD_close  ETH-USD_vol  LTC-USD_close  LTC-USD_vol  \n",
       "Time                                                                \n",
       "1528968660            NaN          NaN      96.580002     9.647200  \n",
       "1528968720     486.010010    26.019083      96.660004   314.387024  \n",
       "1528968780     486.000000     8.449400      96.570000    77.129799  \n",
       "1528968840     485.750000    26.994646      96.500000     7.216067  \n",
       "1528968900     486.000000    77.355759      96.389999   524.539978  \n",
       "...                   ...          ...            ...          ...  \n",
       "1535215020     279.359985     8.790519      58.009998     7.301921  \n",
       "1535215080     279.369995     1.311763      58.020000    23.802017  \n",
       "1535215140     279.660004    11.752819      58.020000     6.953497  \n",
       "1535215200     279.649994     8.351710      58.080002   202.403183  \n",
       "1535215260     279.649994    10.511729      58.090000   160.602554  \n",
       "\n",
       "[92225 rows x 8 columns]"
      ]
     },
     "execution_count": 8,
     "metadata": {},
     "output_type": "execute_result"
    }
   ],
   "source": [
    "final_data"
   ]
  },
  {
   "cell_type": "code",
   "execution_count": 9,
   "metadata": {},
   "outputs": [],
   "source": [
    "final_data['future'] = final_data[f'{ratio_to_pred}_close'].shift(-future_pred_len) "
   ]
  },
  {
   "cell_type": "code",
   "execution_count": 10,
   "metadata": {},
   "outputs": [],
   "source": [
    "final_data['target']  =list(map(classify,final_data[f'{ratio_to_pred}_close'],final_data['future']))"
   ]
  },
  {
   "cell_type": "code",
   "execution_count": 11,
   "metadata": {},
   "outputs": [
    {
     "data": {
      "text/html": [
       "<div>\n",
       "<style scoped>\n",
       "    .dataframe tbody tr th:only-of-type {\n",
       "        vertical-align: middle;\n",
       "    }\n",
       "\n",
       "    .dataframe tbody tr th {\n",
       "        vertical-align: top;\n",
       "    }\n",
       "\n",
       "    .dataframe thead th {\n",
       "        text-align: right;\n",
       "    }\n",
       "</style>\n",
       "<table border=\"1\" class=\"dataframe\">\n",
       "  <thead>\n",
       "    <tr style=\"text-align: right;\">\n",
       "      <th></th>\n",
       "      <th>BCH-USD_close</th>\n",
       "      <th>BCH-USD_vol</th>\n",
       "      <th>BTC-USD_close</th>\n",
       "      <th>BTC-USD_vol</th>\n",
       "      <th>ETH-USD_close</th>\n",
       "      <th>ETH-USD_vol</th>\n",
       "      <th>LTC-USD_close</th>\n",
       "      <th>LTC-USD_vol</th>\n",
       "      <th>future</th>\n",
       "      <th>target</th>\n",
       "    </tr>\n",
       "    <tr>\n",
       "      <th>Time</th>\n",
       "      <th></th>\n",
       "      <th></th>\n",
       "      <th></th>\n",
       "      <th></th>\n",
       "      <th></th>\n",
       "      <th></th>\n",
       "      <th></th>\n",
       "      <th></th>\n",
       "      <th></th>\n",
       "      <th></th>\n",
       "    </tr>\n",
       "  </thead>\n",
       "  <tbody>\n",
       "    <tr>\n",
       "      <th>1528968660</th>\n",
       "      <td>871.719971</td>\n",
       "      <td>5.675361</td>\n",
       "      <td>6489.549805</td>\n",
       "      <td>0.587100</td>\n",
       "      <td>NaN</td>\n",
       "      <td>NaN</td>\n",
       "      <td>96.580002</td>\n",
       "      <td>9.647200</td>\n",
       "      <td>96.500000</td>\n",
       "      <td>0</td>\n",
       "    </tr>\n",
       "    <tr>\n",
       "      <th>1528968720</th>\n",
       "      <td>870.859985</td>\n",
       "      <td>26.856577</td>\n",
       "      <td>6487.379883</td>\n",
       "      <td>7.706374</td>\n",
       "      <td>486.010010</td>\n",
       "      <td>26.019083</td>\n",
       "      <td>96.660004</td>\n",
       "      <td>314.387024</td>\n",
       "      <td>96.389999</td>\n",
       "      <td>0</td>\n",
       "    </tr>\n",
       "    <tr>\n",
       "      <th>1528968780</th>\n",
       "      <td>870.099976</td>\n",
       "      <td>1.124300</td>\n",
       "      <td>6479.410156</td>\n",
       "      <td>3.088252</td>\n",
       "      <td>486.000000</td>\n",
       "      <td>8.449400</td>\n",
       "      <td>96.570000</td>\n",
       "      <td>77.129799</td>\n",
       "      <td>96.519997</td>\n",
       "      <td>0</td>\n",
       "    </tr>\n",
       "    <tr>\n",
       "      <th>1528968840</th>\n",
       "      <td>870.789978</td>\n",
       "      <td>1.749862</td>\n",
       "      <td>6479.410156</td>\n",
       "      <td>1.404100</td>\n",
       "      <td>485.750000</td>\n",
       "      <td>26.994646</td>\n",
       "      <td>96.500000</td>\n",
       "      <td>7.216067</td>\n",
       "      <td>96.440002</td>\n",
       "      <td>0</td>\n",
       "    </tr>\n",
       "    <tr>\n",
       "      <th>1528968900</th>\n",
       "      <td>870.000000</td>\n",
       "      <td>1.680500</td>\n",
       "      <td>6479.979980</td>\n",
       "      <td>0.753000</td>\n",
       "      <td>486.000000</td>\n",
       "      <td>77.355759</td>\n",
       "      <td>96.389999</td>\n",
       "      <td>524.539978</td>\n",
       "      <td>96.470001</td>\n",
       "      <td>1</td>\n",
       "    </tr>\n",
       "    <tr>\n",
       "      <th>...</th>\n",
       "      <td>...</td>\n",
       "      <td>...</td>\n",
       "      <td>...</td>\n",
       "      <td>...</td>\n",
       "      <td>...</td>\n",
       "      <td>...</td>\n",
       "      <td>...</td>\n",
       "      <td>...</td>\n",
       "      <td>...</td>\n",
       "      <td>...</td>\n",
       "    </tr>\n",
       "    <tr>\n",
       "      <th>1535215020</th>\n",
       "      <td>531.479980</td>\n",
       "      <td>0.016868</td>\n",
       "      <td>6714.520020</td>\n",
       "      <td>1.002652</td>\n",
       "      <td>279.359985</td>\n",
       "      <td>8.790519</td>\n",
       "      <td>58.009998</td>\n",
       "      <td>7.301921</td>\n",
       "      <td>58.080002</td>\n",
       "      <td>1</td>\n",
       "    </tr>\n",
       "    <tr>\n",
       "      <th>1535215080</th>\n",
       "      <td>531.469971</td>\n",
       "      <td>0.013854</td>\n",
       "      <td>6714.520020</td>\n",
       "      <td>1.021925</td>\n",
       "      <td>279.369995</td>\n",
       "      <td>1.311763</td>\n",
       "      <td>58.020000</td>\n",
       "      <td>23.802017</td>\n",
       "      <td>58.090000</td>\n",
       "      <td>1</td>\n",
       "    </tr>\n",
       "    <tr>\n",
       "      <th>1535215140</th>\n",
       "      <td>531.479980</td>\n",
       "      <td>0.016900</td>\n",
       "      <td>6715.000000</td>\n",
       "      <td>3.645508</td>\n",
       "      <td>279.660004</td>\n",
       "      <td>11.752819</td>\n",
       "      <td>58.020000</td>\n",
       "      <td>6.953497</td>\n",
       "      <td>NaN</td>\n",
       "      <td>0</td>\n",
       "    </tr>\n",
       "    <tr>\n",
       "      <th>1535215200</th>\n",
       "      <td>531.479980</td>\n",
       "      <td>0.299520</td>\n",
       "      <td>6715.000000</td>\n",
       "      <td>0.513560</td>\n",
       "      <td>279.649994</td>\n",
       "      <td>8.351710</td>\n",
       "      <td>58.080002</td>\n",
       "      <td>202.403183</td>\n",
       "      <td>NaN</td>\n",
       "      <td>0</td>\n",
       "    </tr>\n",
       "    <tr>\n",
       "      <th>1535215260</th>\n",
       "      <td>531.630005</td>\n",
       "      <td>3.528913</td>\n",
       "      <td>NaN</td>\n",
       "      <td>NaN</td>\n",
       "      <td>279.649994</td>\n",
       "      <td>10.511729</td>\n",
       "      <td>58.090000</td>\n",
       "      <td>160.602554</td>\n",
       "      <td>NaN</td>\n",
       "      <td>0</td>\n",
       "    </tr>\n",
       "  </tbody>\n",
       "</table>\n",
       "<p>92225 rows × 10 columns</p>\n",
       "</div>"
      ],
      "text/plain": [
       "            BCH-USD_close  BCH-USD_vol  BTC-USD_close  BTC-USD_vol  \\\n",
       "Time                                                                 \n",
       "1528968660     871.719971     5.675361    6489.549805     0.587100   \n",
       "1528968720     870.859985    26.856577    6487.379883     7.706374   \n",
       "1528968780     870.099976     1.124300    6479.410156     3.088252   \n",
       "1528968840     870.789978     1.749862    6479.410156     1.404100   \n",
       "1528968900     870.000000     1.680500    6479.979980     0.753000   \n",
       "...                   ...          ...            ...          ...   \n",
       "1535215020     531.479980     0.016868    6714.520020     1.002652   \n",
       "1535215080     531.469971     0.013854    6714.520020     1.021925   \n",
       "1535215140     531.479980     0.016900    6715.000000     3.645508   \n",
       "1535215200     531.479980     0.299520    6715.000000     0.513560   \n",
       "1535215260     531.630005     3.528913            NaN          NaN   \n",
       "\n",
       "            ETH-USD_close  ETH-USD_vol  LTC-USD_close  LTC-USD_vol     future  \\\n",
       "Time                                                                            \n",
       "1528968660            NaN          NaN      96.580002     9.647200  96.500000   \n",
       "1528968720     486.010010    26.019083      96.660004   314.387024  96.389999   \n",
       "1528968780     486.000000     8.449400      96.570000    77.129799  96.519997   \n",
       "1528968840     485.750000    26.994646      96.500000     7.216067  96.440002   \n",
       "1528968900     486.000000    77.355759      96.389999   524.539978  96.470001   \n",
       "...                   ...          ...            ...          ...        ...   \n",
       "1535215020     279.359985     8.790519      58.009998     7.301921  58.080002   \n",
       "1535215080     279.369995     1.311763      58.020000    23.802017  58.090000   \n",
       "1535215140     279.660004    11.752819      58.020000     6.953497        NaN   \n",
       "1535215200     279.649994     8.351710      58.080002   202.403183        NaN   \n",
       "1535215260     279.649994    10.511729      58.090000   160.602554        NaN   \n",
       "\n",
       "            target  \n",
       "Time                \n",
       "1528968660       0  \n",
       "1528968720       0  \n",
       "1528968780       0  \n",
       "1528968840       0  \n",
       "1528968900       1  \n",
       "...            ...  \n",
       "1535215020       1  \n",
       "1535215080       1  \n",
       "1535215140       0  \n",
       "1535215200       0  \n",
       "1535215260       0  \n",
       "\n",
       "[92225 rows x 10 columns]"
      ]
     },
     "execution_count": 11,
     "metadata": {},
     "output_type": "execute_result"
    }
   ],
   "source": [
    "final_data"
   ]
  },
  {
   "cell_type": "code",
   "execution_count": 12,
   "metadata": {},
   "outputs": [],
   "source": [
    "times = sorted(final_data.index.values)"
   ]
  },
  {
   "cell_type": "code",
   "execution_count": 13,
   "metadata": {},
   "outputs": [
    {
     "data": {
      "text/plain": [
       "1534879920"
      ]
     },
     "execution_count": 13,
     "metadata": {},
     "output_type": "execute_result"
    }
   ],
   "source": [
    "last_5per = times[-int(0.05*len(times))]\n",
    "last_5per"
   ]
  },
  {
   "cell_type": "code",
   "execution_count": 14,
   "metadata": {},
   "outputs": [],
   "source": [
    "val_df = final_data[(final_data.index>=last_5per)]\n",
    "train_df = final_data[(final_data.index<=last_5per)] "
   ]
  },
  {
   "cell_type": "code",
   "execution_count": 15,
   "metadata": {},
   "outputs": [],
   "source": [
    "val_X,val_y = preprocess_df(val_df)"
   ]
  },
  {
   "cell_type": "code",
   "execution_count": 16,
   "metadata": {},
   "outputs": [
    {
     "ename": "KeyboardInterrupt",
     "evalue": "",
     "output_type": "error",
     "traceback": [
      "\u001b[1;31m---------------------------------------------------------------------------\u001b[0m",
      "\u001b[1;31mKeyboardInterrupt\u001b[0m                         Traceback (most recent call last)",
      "\u001b[1;32m<ipython-input-16-01b4cb14b936>\u001b[0m in \u001b[0;36m<module>\u001b[1;34m\u001b[0m\n\u001b[1;32m----> 1\u001b[1;33m \u001b[0mtrain_X\u001b[0m\u001b[1;33m,\u001b[0m\u001b[0mtrain_y\u001b[0m \u001b[1;33m=\u001b[0m \u001b[0mpreprocess_df\u001b[0m\u001b[1;33m(\u001b[0m\u001b[0mtrain_df\u001b[0m\u001b[1;33m)\u001b[0m\u001b[1;33m\u001b[0m\u001b[1;33m\u001b[0m\u001b[0m\n\u001b[0m",
      "\u001b[1;32m<ipython-input-6-388387d9b29e>\u001b[0m in \u001b[0;36mpreprocess_df\u001b[1;34m(df)\u001b[0m\n\u001b[0;32m     13\u001b[0m         \u001b[1;32mif\u001b[0m \u001b[0mlen\u001b[0m\u001b[1;33m(\u001b[0m\u001b[0mprev_day\u001b[0m\u001b[1;33m)\u001b[0m \u001b[1;33m==\u001b[0m \u001b[0mseq_len\u001b[0m\u001b[1;33m:\u001b[0m\u001b[1;33m\u001b[0m\u001b[1;33m\u001b[0m\u001b[0m\n\u001b[0;32m     14\u001b[0m             \u001b[0mseq_data\u001b[0m\u001b[1;33m.\u001b[0m\u001b[0mappend\u001b[0m\u001b[1;33m(\u001b[0m\u001b[1;33m[\u001b[0m\u001b[0mnp\u001b[0m\u001b[1;33m.\u001b[0m\u001b[0marray\u001b[0m\u001b[1;33m(\u001b[0m\u001b[0mprev_day\u001b[0m\u001b[1;33m)\u001b[0m\u001b[1;33m,\u001b[0m\u001b[0mi\u001b[0m\u001b[1;33m[\u001b[0m\u001b[1;33m-\u001b[0m\u001b[1;36m1\u001b[0m\u001b[1;33m]\u001b[0m\u001b[1;33m]\u001b[0m\u001b[1;33m)\u001b[0m\u001b[1;33m\u001b[0m\u001b[1;33m\u001b[0m\u001b[0m\n\u001b[1;32m---> 15\u001b[1;33m             \u001b[0mnp\u001b[0m\u001b[1;33m.\u001b[0m\u001b[0mrandom\u001b[0m\u001b[1;33m.\u001b[0m\u001b[0mshuffle\u001b[0m\u001b[1;33m(\u001b[0m\u001b[0mseq_data\u001b[0m\u001b[1;33m)\u001b[0m\u001b[1;33m\u001b[0m\u001b[1;33m\u001b[0m\u001b[0m\n\u001b[0m\u001b[0;32m     16\u001b[0m     \u001b[0mbuys\u001b[0m \u001b[1;33m=\u001b[0m \u001b[1;33m[\u001b[0m\u001b[1;33m]\u001b[0m\u001b[1;33m\u001b[0m\u001b[1;33m\u001b[0m\u001b[0m\n\u001b[0;32m     17\u001b[0m     \u001b[0msells\u001b[0m \u001b[1;33m=\u001b[0m \u001b[1;33m[\u001b[0m\u001b[1;33m]\u001b[0m\u001b[1;33m\u001b[0m\u001b[1;33m\u001b[0m\u001b[0m\n",
      "\u001b[1;31mKeyboardInterrupt\u001b[0m: "
     ]
    }
   ],
   "source": [
    "train_X,train_y = preprocess_df(train_df)"
   ]
  },
  {
   "cell_type": "code",
   "execution_count": null,
   "metadata": {},
   "outputs": [],
   "source": [
    "out = open(r'C:\\Users\\Sampath HN\\crypto\\train_x.pickle','wb')\n",
    "pickle.dump(train_X,out)\n",
    "out.close\n",
    "\n",
    "out = open(r'C:\\Users\\Sampath HN\\crypto\\train_y.pickle','wb')\n",
    "pickle.dump(train_y,out)\n",
    "out.close\n",
    "\n",
    "out = open(r'C:\\Users\\Sampath HN\\crypto\\val_X.pickle','wb')\n",
    "pickle.dump(val_X,out)\n",
    "out.close\n",
    "\n",
    "out = open(r'C:\\Users\\Sampath HN\\crypto\\val_y.pickle','wb')\n",
    "pickle.dump(val_y,out)\n",
    "out.close"
   ]
  },
  {
   "cell_type": "code",
   "execution_count": 3,
   "metadata": {},
   "outputs": [],
   "source": [
    "train_X = pickle.load(open('train_x.pickle','rb'))\n",
    "train_y = pickle.load(open('train_y.pickle','rb'))\n",
    "val_X = pickle.load(open('val_x.pickle','rb'))\n",
    "val_y = pickle.load(open('val_y.pickle','rb'))"
   ]
  },
  {
   "cell_type": "code",
   "execution_count": 4,
   "metadata": {},
   "outputs": [],
   "source": [
    "model = Sequential()"
   ]
  },
  {
   "cell_type": "code",
   "execution_count": 5,
   "metadata": {
    "scrolled": true
   },
   "outputs": [],
   "source": [
    "model.add(LSTM(128,input_shape =train_X.shape[1:],return_sequences=True))"
   ]
  },
  {
   "cell_type": "code",
   "execution_count": 6,
   "metadata": {},
   "outputs": [],
   "source": [
    "model.add(Dropout(0.2))"
   ]
  },
  {
   "cell_type": "code",
   "execution_count": 7,
   "metadata": {},
   "outputs": [],
   "source": [
    "model.add(BatchNormalization())"
   ]
  },
  {
   "cell_type": "code",
   "execution_count": 8,
   "metadata": {},
   "outputs": [],
   "source": [
    "model.add(LSTM(128,input_shape =(60,8),return_sequences=True))"
   ]
  },
  {
   "cell_type": "code",
   "execution_count": 9,
   "metadata": {},
   "outputs": [],
   "source": [
    "model.add(Dropout(0.2))"
   ]
  },
  {
   "cell_type": "code",
   "execution_count": 10,
   "metadata": {},
   "outputs": [],
   "source": [
    "model.add(BatchNormalization())"
   ]
  },
  {
   "cell_type": "code",
   "execution_count": 11,
   "metadata": {},
   "outputs": [],
   "source": [
    "model.add(LSTM(128,input_shape =(60,8)))"
   ]
  },
  {
   "cell_type": "code",
   "execution_count": 12,
   "metadata": {},
   "outputs": [],
   "source": [
    "model.add(Dropout(0.2))"
   ]
  },
  {
   "cell_type": "code",
   "execution_count": 13,
   "metadata": {},
   "outputs": [],
   "source": [
    "model.add(BatchNormalization())"
   ]
  },
  {
   "cell_type": "code",
   "execution_count": 14,
   "metadata": {},
   "outputs": [],
   "source": [
    "model.add(Dense(32,activation='relu'))"
   ]
  },
  {
   "cell_type": "code",
   "execution_count": 15,
   "metadata": {},
   "outputs": [],
   "source": [
    "model.add(Dropout(0.2))"
   ]
  },
  {
   "cell_type": "code",
   "execution_count": 16,
   "metadata": {},
   "outputs": [],
   "source": [
    "model.add(Dense(2,activation='softmax'))"
   ]
  },
  {
   "cell_type": "code",
   "execution_count": 17,
   "metadata": {},
   "outputs": [],
   "source": [
    "opt = tf.keras.optimizers.Adam(lr=0.001,decay=1e-6)"
   ]
  },
  {
   "cell_type": "code",
   "execution_count": 18,
   "metadata": {},
   "outputs": [],
   "source": [
    "model.compile(loss='sparse_categorical_crossentropy',optimizer=opt,metrics=['accuracy'])"
   ]
  },
  {
   "cell_type": "code",
   "execution_count": 19,
   "metadata": {},
   "outputs": [],
   "source": [
    "%load_ext tensorboard"
   ]
  },
  {
   "cell_type": "code",
   "execution_count": 20,
   "metadata": {},
   "outputs": [],
   "source": [
    "log_dir = os.path.join('logs','fit','') + datetime.datetime.now().strftime(\"%Y%m%d-%H%M%S\")\n",
    "tensorboard_callback = tf.keras.callbacks.TensorBoard(log_dir=log_dir, histogram_freq=1)"
   ]
  },
  {
   "cell_type": "code",
   "execution_count": 24,
   "metadata": {
    "scrolled": true
   },
   "outputs": [
    {
     "name": "stdout",
     "output_type": "stream",
     "text": [
      "Train on 69402 samples, validate on 3688 samples\n",
      "Epoch 1/10\n",
      "69402/69402 [==============================] - 27s 383us/sample - loss: 0.6867 - accuracy: 0.5490 - val_loss: 0.6806 - val_accuracy: 0.5624\n",
      "Epoch 2/10\n",
      "69402/69402 [==============================] - 23s 328us/sample - loss: 0.6836 - accuracy: 0.5570 - val_loss: 0.6761 - val_accuracy: 0.5713\n",
      "Epoch 3/10\n",
      "69402/69402 [==============================] - 23s 331us/sample - loss: 0.6814 - accuracy: 0.5637 - val_loss: 0.6807 - val_accuracy: 0.5691\n",
      "Epoch 4/10\n",
      "69402/69402 [==============================] - 21s 298us/sample - loss: 0.6799 - accuracy: 0.5676 - val_loss: 0.6792 - val_accuracy: 0.5607\n",
      "Epoch 5/10\n",
      "69402/69402 [==============================] - 23s 325us/sample - loss: 0.6779 - accuracy: 0.5736 - val_loss: 0.6809 - val_accuracy: 0.5727\n",
      "Epoch 6/10\n",
      "69402/69402 [==============================] - 23s 329us/sample - loss: 0.6761 - accuracy: 0.5799 - val_loss: 0.6796 - val_accuracy: 0.5746\n",
      "Epoch 7/10\n",
      "69402/69402 [==============================] - 24s 346us/sample - loss: 0.6719 - accuracy: 0.5872 - val_loss: 0.6812 - val_accuracy: 0.5651\n",
      "Epoch 8/10\n",
      "69402/69402 [==============================] - 22s 321us/sample - loss: 0.6664 - accuracy: 0.5948 - val_loss: 0.6891 - val_accuracy: 0.5594\n",
      "Epoch 9/10\n",
      "69402/69402 [==============================] - 22s 314us/sample - loss: 0.6599 - accuracy: 0.6051 - val_loss: 0.6908 - val_accuracy: 0.5675\n",
      "Epoch 10/10\n",
      "69402/69402 [==============================] - 25s 354us/sample - loss: 0.6490 - accuracy: 0.6210 - val_loss: 0.6933 - val_accuracy: 0.5512\n"
     ]
    }
   ],
   "source": [
    "history = model.fit(train_X,train_y,batch_size=batch_size,epochs=Epochs,validation_data=(val_X,val_y),callbacks = [tensorboard_callback])"
   ]
  },
  {
   "cell_type": "code",
   "execution_count": 56,
   "metadata": {
    "scrolled": true
   },
   "outputs": [
    {
     "name": "stdout",
     "output_type": "stream",
     "text": [
      "Model: \"sequential_2\"\n",
      "_________________________________________________________________\n",
      "Layer (type)                 Output Shape              Param #   \n",
      "=================================================================\n",
      "lstm_6 (LSTM)                (None, 60, 128)           70144     \n",
      "_________________________________________________________________\n",
      "dropout_7 (Dropout)          (None, 60, 128)           0         \n",
      "_________________________________________________________________\n",
      "batch_normalization_6 (Batch (None, 60, 128)           512       \n",
      "_________________________________________________________________\n",
      "lstm_7 (LSTM)                (None, 60, 128)           131584    \n",
      "_________________________________________________________________\n",
      "dropout_8 (Dropout)          (None, 60, 128)           0         \n",
      "_________________________________________________________________\n",
      "batch_normalization_7 (Batch (None, 60, 128)           512       \n",
      "_________________________________________________________________\n",
      "lstm_8 (LSTM)                (None, 128)               131584    \n",
      "_________________________________________________________________\n",
      "dropout_9 (Dropout)          (None, 128)               0         \n",
      "_________________________________________________________________\n",
      "batch_normalization_8 (Batch (None, 128)               512       \n",
      "_________________________________________________________________\n",
      "dense_2 (Dense)              (None, 32)                4128      \n",
      "_________________________________________________________________\n",
      "dropout_10 (Dropout)         (None, 32)                0         \n",
      "_________________________________________________________________\n",
      "dense_3 (Dense)              (None, 2)                 66        \n",
      "=================================================================\n",
      "Total params: 339,042\n",
      "Trainable params: 338,274\n",
      "Non-trainable params: 768\n",
      "_________________________________________________________________\n"
     ]
    }
   ],
   "source": [
    "model.summary()"
   ]
  },
  {
   "cell_type": "code",
   "execution_count": 25,
   "metadata": {},
   "outputs": [
    {
     "data": {
      "text/plain": [
       "ERROR: Timed out waiting for TensorBoard to start. It may still be running as pid 9444."
      ]
     },
     "metadata": {},
     "output_type": "display_data"
    }
   ],
   "source": [
    "%tensorboard --logdir logs/gradient_tape"
   ]
  },
  {
   "cell_type": "code",
   "execution_count": null,
   "metadata": {},
   "outputs": [],
   "source": [
    "model.save('')"
   ]
  }
 ],
 "metadata": {
  "kernelspec": {
   "display_name": "Python 3",
   "language": "python",
   "name": "python3"
  },
  "language_info": {
   "codemirror_mode": {
    "name": "ipython",
    "version": 3
   },
   "file_extension": ".py",
   "mimetype": "text/x-python",
   "name": "python",
   "nbconvert_exporter": "python",
   "pygments_lexer": "ipython3",
   "version": "3.6.10"
  }
 },
 "nbformat": 4,
 "nbformat_minor": 4
}
